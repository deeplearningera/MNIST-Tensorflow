{
  "nbformat": 4,
  "nbformat_minor": 0,
  "metadata": {
    "colab": {
      "name": "MNIST-Tensorflow.ipynb",
      "provenance": [],
      "collapsed_sections": [],
      "machine_shape": "hm"
    },
    "kernelspec": {
      "name": "python3",
      "display_name": "Python 3"
    }
  },
  "cells": [
    {
      "cell_type": "code",
      "metadata": {
        "id": "Ev4oKEbiRv2t",
        "colab_type": "code",
        "colab": {}
      },
      "source": [
        "import tensorflow as tf"
      ],
      "execution_count": 0,
      "outputs": []
    },
    {
      "cell_type": "code",
      "metadata": {
        "id": "ncK_ipA-QfF0",
        "colab_type": "code",
        "colab": {}
      },
      "source": [
        "n_input = 784\n",
        "n_hidden_1 = 256\n",
        "n_hidden_2 = 256\n",
        "n_classes = 10"
      ],
      "execution_count": 0,
      "outputs": []
    },
    {
      "cell_type": "code",
      "metadata": {
        "id": "cArezGJuQoes",
        "colab_type": "code",
        "colab": {
          "base_uri": "https://localhost:8080/",
          "height": 36
        },
        "outputId": "19d196ca-e4b9-4fbd-982e-a0126148f987"
      },
      "source": [
        "weights = {\n",
        "    'h1' : tf.Variable(tf.random_normal([n_input, n_hidden_1])),\n",
        "    'h2' : tf.Variable(tf.random_normal([n_hidden_1, n_hidden_2])),\n",
        "    'out' : tf.Variable(tf.random_normal([n_hidden_2, n_classes]))\n",
        "}\n",
        "\n",
        "biases = {\n",
        "    'h1' : tf.Variable(tf.random_normal([n_hidden_1])),\n",
        "    'h2' : tf.Variable(tf.random_normal([n_hidden_2])),\n",
        "    'out' : tf.Variable(tf.random_normal([n_classes]))\n",
        "}\n",
        "\n",
        "weights['h1']"
      ],
      "execution_count": 63,
      "outputs": [
        {
          "output_type": "execute_result",
          "data": {
            "text/plain": [
              "<tf.Variable 'Variable_24:0' shape=(784, 256) dtype=float32_ref>"
            ]
          },
          "metadata": {
            "tags": []
          },
          "execution_count": 63
        }
      ]
    },
    {
      "cell_type": "code",
      "metadata": {
        "id": "uRRzRGpdSWuX",
        "colab_type": "code",
        "colab": {}
      },
      "source": [
        "def forward_propagation(x, weights, biases):\n",
        "  in_layer_1 = tf.add(tf.matmul(x, weights['h1']), biases['h1'])\n",
        "  out_layer_1 = tf.nn.relu(in_layer_1)\n",
        "\n",
        "  in_layer_2 = tf.add(tf.matmul(out_layer_1, weights['h2']), biases['h2'])\n",
        "  out_layer_2 = tf.nn.relu(in_layer_2)\n",
        "\n",
        "  output = tf.add(tf.matmul(out_layer_2, weights['out']), biases['out'])\n",
        "\n",
        "  return output"
      ],
      "execution_count": 0,
      "outputs": []
    },
    {
      "cell_type": "code",
      "metadata": {
        "id": "lfaj4hJHFh3A",
        "colab_type": "code",
        "colab": {
          "base_uri": "https://localhost:8080/",
          "height": 91
        },
        "outputId": "78c8dac6-8c41-4fc9-87a4-291c1cfe09ce"
      },
      "source": [
        "from tensorflow.examples.tutorials.mnist import input_data\n",
        "mnist = input_data.read_data_sets(\"MNIST_data/\", one_hot=True)"
      ],
      "execution_count": 65,
      "outputs": [
        {
          "output_type": "stream",
          "text": [
            "Extracting MNIST_data/train-images-idx3-ubyte.gz\n",
            "Extracting MNIST_data/train-labels-idx1-ubyte.gz\n",
            "Extracting MNIST_data/t10k-images-idx3-ubyte.gz\n",
            "Extracting MNIST_data/t10k-labels-idx1-ubyte.gz\n"
          ],
          "name": "stdout"
        }
      ]
    },
    {
      "cell_type": "code",
      "metadata": {
        "id": "vfD30Qo9oriT",
        "colab_type": "code",
        "colab": {
          "base_uri": "https://localhost:8080/",
          "height": 1000
        },
        "outputId": "cd8157d5-04c1-4217-d7f8-e6b6902b8d10"
      },
      "source": [
        "x = tf.placeholder('float32', [55000, n_input])\n",
        "y = tf.placeholder('float32', [55000, n_classes])\n",
        "pred = forward_propagation(x, weights, biases)\n",
        "cost = tf.reduce_mean(tf.nn.softmax_cross_entropy_with_logits(logits = pred, labels = y))\n",
        "optimizer = tf.train.AdamOptimizer(learning_rate=0.01)\n",
        "optimize = optimizer.minimize(cost)\n",
        "sess = tf.Session()\n",
        "sess.run(tf.global_variables_initializer())\n",
        "iter = 1\n",
        "while iter<100:\n",
        "    c1,c2 = sess.run([cost, optimize], feed_dict={x : mnist.train.images, y : mnist.train.labels})\n",
        "    print(c1)\n",
        "    iter = iter + 1\n",
        "predictions = tf.argmax(pred, 1)\n",
        "true_label = tf.argmax(y, 1)\n",
        "correct_predictions = tf.equal(predictions, true_label)\n",
        "predictions_eval, labels, correct_pred = sess.run([predictions, true_label, correct_predictions], feed_dict = {x:mnist.train.images, y:mnist.train.labels})\n",
        "correct_pred"
      ],
      "execution_count": 67,
      "outputs": [
        {
          "output_type": "stream",
          "text": [
            "2515.3677\n",
            "1554.3966\n",
            "1135.4785\n",
            "789.04114\n",
            "652.36725\n",
            "621.8124\n",
            "588.11426\n",
            "511.46335\n",
            "407.08255\n",
            "320.72592\n",
            "271.51358\n",
            "243.98378\n",
            "218.5266\n",
            "187.89636\n",
            "155.68881\n",
            "131.4634\n",
            "123.54255\n",
            "131.90964\n",
            "143.11407\n",
            "141.82776\n",
            "126.25327\n",
            "106.540474\n",
            "91.63707\n",
            "83.665\n",
            "80.73572\n",
            "80.280266\n",
            "80.42188\n",
            "79.8371\n",
            "78.08972\n",
            "75.37111\n",
            "72.22268\n",
            "69.15756\n",
            "66.41962\n",
            "64.08987\n",
            "62.105267\n",
            "60.37772\n",
            "58.73749\n",
            "57.069588\n",
            "55.280273\n",
            "53.450806\n",
            "51.674473\n",
            "50.075783\n",
            "48.777836\n",
            "47.76091\n",
            "46.948303\n",
            "46.234917\n",
            "45.4897\n",
            "44.638615\n",
            "43.690773\n",
            "42.689186\n",
            "41.701454\n",
            "40.77716\n",
            "39.9227\n",
            "39.14189\n",
            "38.416935\n",
            "37.727894\n",
            "37.05446\n",
            "36.39071\n",
            "35.742065\n",
            "35.112698\n",
            "34.510483\n",
            "33.928436\n",
            "33.363728\n",
            "32.81148\n",
            "32.271973\n",
            "31.744123\n",
            "31.230654\n",
            "30.727686\n",
            "30.230568\n",
            "29.741222\n",
            "29.259073\n",
            "28.79276\n",
            "28.34494\n",
            "27.914623\n",
            "27.497509\n",
            "27.091007\n",
            "26.689009\n",
            "26.291332\n",
            "25.900469\n",
            "25.518433\n",
            "25.147762\n",
            "24.786425\n",
            "24.432123\n",
            "24.083025\n",
            "23.739347\n",
            "23.40263\n",
            "23.074236\n",
            "22.752682\n",
            "22.43717\n",
            "22.129175\n",
            "21.828135\n",
            "21.532827\n",
            "21.243336\n",
            "20.958769\n",
            "20.679264\n",
            "20.404905\n",
            "20.135887\n",
            "19.870642\n",
            "19.609663\n"
          ],
          "name": "stdout"
        },
        {
          "output_type": "execute_result",
          "data": {
            "text/plain": [
              "array([ True,  True,  True, ...,  True, False,  True])"
            ]
          },
          "metadata": {
            "tags": []
          },
          "execution_count": 67
        }
      ]
    }
  ]
}